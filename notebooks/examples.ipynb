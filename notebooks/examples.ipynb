{
 "cells": [
  {
   "cell_type": "code",
   "execution_count": 24,
   "id": "d4f03a34",
   "metadata": {},
   "outputs": [],
   "source": [
    "import os\n",
    "import sys\n",
    "# hax aby Python importowal moduly z wyzszego drzewa katalogow (z poziomu main.py)\n",
    "MAIN_PATH = os.path.abspath('{}/..'.format(os.getcwd()))\n",
    "sys.path.append(MAIN_PATH)\n",
    "\n",
    "from dataVisualizer.functions import get_data_matrix\n",
    "\n",
    "RESOURCES_DIR = '{}/resources'.format(MAIN_PATH)\n",
    "OUTPUT_DIR = '{}/outputs'.format(MAIN_PATH)\n",
    "\n",
    "data_matrix = get_data_matrix(RESOURCES_DIR, 'dane.xls', 'order.xls')"
   ]
  },
  {
   "cell_type": "code",
   "execution_count": 21,
   "id": "b6f11441",
   "metadata": {},
   "outputs": [
    {
     "data": {
      "text/plain": [
       "83"
      ]
     },
     "execution_count": 21,
     "metadata": {},
     "output_type": "execute_result"
    }
   ],
   "source": [
    "len(data_matrix.get_compounds_names_list())"
   ]
  },
  {
   "cell_type": "code",
   "execution_count": 22,
   "id": "0ebcadd4",
   "metadata": {},
   "outputs": [],
   "source": [
    "compund = data_matrix.get_compound_by_name('1_5_Anhydro_D_sorbitol_tetrakis(trimethylsilyl)ether')"
   ]
  },
  {
   "cell_type": "code",
   "execution_count": 23,
   "id": "c1e34800",
   "metadata": {},
   "outputs": [
    {
     "data": {
      "text/plain": [
       "1_5_Anhydro_D_sorbitol_tetrakis(trimethylsilyl)ether: Samples: 66"
      ]
     },
     "execution_count": 23,
     "metadata": {},
     "output_type": "execute_result"
    }
   ],
   "source": [
    "compund"
   ]
  },
  {
   "cell_type": "code",
   "execution_count": null,
   "id": "15d47140",
   "metadata": {},
   "outputs": [],
   "source": []
  }
 ],
 "metadata": {
  "kernelspec": {
   "display_name": "Python 3",
   "language": "python",
   "name": "python3"
  },
  "language_info": {
   "codemirror_mode": {
    "name": "ipython",
    "version": 3
   },
   "file_extension": ".py",
   "mimetype": "text/x-python",
   "name": "python",
   "nbconvert_exporter": "python",
   "pygments_lexer": "ipython3",
   "version": "3.8.7"
  }
 },
 "nbformat": 4,
 "nbformat_minor": 5
}
